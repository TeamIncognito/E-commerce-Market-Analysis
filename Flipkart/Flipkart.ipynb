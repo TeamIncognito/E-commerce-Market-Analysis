{
  "nbformat": 4,
  "nbformat_minor": 0,
  "metadata": {
    "colab": {
      "name": "Flipkart.ipynb",
      "provenance": []
    },
    "kernelspec": {
      "name": "python3",
      "display_name": "Python 3"
    },
    "language_info": {
      "name": "python"
    }
  },
  "cells": [
    {
      "cell_type": "code",
      "metadata": {
        "id": "bZ8bUHiTkhdF"
      },
      "source": [
        "import pandas as pd"
      ],
      "execution_count": null,
      "outputs": []
    },
    {
      "cell_type": "code",
      "metadata": {
        "id": "6XihGV_Lla_H"
      },
      "source": [
        "import numpy as np"
      ],
      "execution_count": null,
      "outputs": []
    },
    {
      "cell_type": "code",
      "metadata": {
        "id": "vDHkhOe8lb1S"
      },
      "source": [
        "data = pd.read_csv(\"/content/FLIPKART FINAL DATASET.csv\")"
      ],
      "execution_count": null,
      "outputs": []
    },
    {
      "cell_type": "code",
      "metadata": {
        "id": "z4h6E9I_l_0o"
      },
      "source": [
        ""
      ],
      "execution_count": null,
      "outputs": []
    },
    {
      "cell_type": "code",
      "metadata": {
        "id": "1xoQwakhmHRi"
      },
      "source": [
        "data2 = data.dropna()"
      ],
      "execution_count": null,
      "outputs": []
    },
    {
      "cell_type": "code",
      "metadata": {
        "colab": {
          "base_uri": "https://localhost:8080/",
          "height": 293
        },
        "id": "Byo_MfTDmKAD",
        "outputId": "c5e639bc-664c-4097-cf25-89555aab6089"
      },
      "source": [
        "data2.head()"
      ],
      "execution_count": null,
      "outputs": [
        {
          "output_type": "execute_result",
          "data": {
            "text/html": [
              "<div>\n",
              "<style scoped>\n",
              "    .dataframe tbody tr th:only-of-type {\n",
              "        vertical-align: middle;\n",
              "    }\n",
              "\n",
              "    .dataframe tbody tr th {\n",
              "        vertical-align: top;\n",
              "    }\n",
              "\n",
              "    .dataframe thead th {\n",
              "        text-align: right;\n",
              "    }\n",
              "</style>\n",
              "<table border=\"1\" class=\"dataframe\">\n",
              "  <thead>\n",
              "    <tr style=\"text-align: right;\">\n",
              "      <th></th>\n",
              "      <th>Title</th>\n",
              "      <th>Title_URL</th>\n",
              "      <th>ProductRating</th>\n",
              "      <th>ProductDes</th>\n",
              "      <th>Price</th>\n",
              "      <th>productstrike</th>\n",
              "      <th>Discount</th>\n",
              "    </tr>\n",
              "  </thead>\n",
              "  <tbody>\n",
              "    <tr>\n",
              "      <th>0</th>\n",
              "      <td>ADIDAS</td>\n",
              "      <td>https://www.flipkart.com/adidas-original-cotto...</td>\n",
              "      <td>4.2</td>\n",
              "      <td>Original Cotton Flat Knit (AD-203) (Grey Mel/W...</td>\n",
              "      <td>₹331</td>\n",
              "      <td>₹349</td>\n",
              "      <td>5% off</td>\n",
              "    </tr>\n",
              "    <tr>\n",
              "      <th>1</th>\n",
              "      <td>ADIDAS</td>\n",
              "      <td>https://www.flipkart.com/adidas-original-cotto...</td>\n",
              "      <td>4.3</td>\n",
              "      <td>Original Cotton Flat Knit (AD-203) (Grey Mel/W...</td>\n",
              "      <td>₹331</td>\n",
              "      <td>₹349</td>\n",
              "      <td>5% off</td>\n",
              "    </tr>\n",
              "    <tr>\n",
              "      <th>2</th>\n",
              "      <td>ADIDAS</td>\n",
              "      <td>https://www.flipkart.com/adidas-original-cotto...</td>\n",
              "      <td>4.3</td>\n",
              "      <td>Original Cotton Flat Knit (AD-203) (Grey Mel/W...</td>\n",
              "      <td>₹331</td>\n",
              "      <td>₹349</td>\n",
              "      <td>5% off</td>\n",
              "    </tr>\n",
              "    <tr>\n",
              "      <th>3</th>\n",
              "      <td>ADIDAS</td>\n",
              "      <td>https://www.flipkart.com/adidas-original-cotto...</td>\n",
              "      <td>4.3</td>\n",
              "      <td>Original Cotton Flat Knit (AD-203) (Grey Mel/W...</td>\n",
              "      <td>₹331</td>\n",
              "      <td>₹349</td>\n",
              "      <td>5% off</td>\n",
              "    </tr>\n",
              "    <tr>\n",
              "      <th>4</th>\n",
              "      <td>ADIDAS</td>\n",
              "      <td>https://www.flipkart.com/adidas-original-cotto...</td>\n",
              "      <td>4.4</td>\n",
              "      <td>Original Cotton Flat Knit (AD-203) (Grey Mel/W...</td>\n",
              "      <td>₹331</td>\n",
              "      <td>₹349</td>\n",
              "      <td>5% off</td>\n",
              "    </tr>\n",
              "  </tbody>\n",
              "</table>\n",
              "</div>"
            ],
            "text/plain": [
              "    Title  ... Discount\n",
              "0  ADIDAS  ...   5% off\n",
              "1  ADIDAS  ...   5% off\n",
              "2  ADIDAS  ...   5% off\n",
              "3  ADIDAS  ...   5% off\n",
              "4  ADIDAS  ...   5% off\n",
              "\n",
              "[5 rows x 7 columns]"
            ]
          },
          "metadata": {},
          "execution_count": 5
        }
      ]
    },
    {
      "cell_type": "code",
      "metadata": {
        "id": "0Pg_IPcOmLeg",
        "colab": {
          "base_uri": "https://localhost:8080/",
          "height": 609
        },
        "outputId": "351c4610-7382-47ec-d447-119f847f68f3"
      },
      "source": [
        "new = data2[\"Discount\"].str.split(\" \", n = 1, expand = True)\n",
        "  \n",
        "# making separate first name column from new data frame\n",
        "data2[\"Discount\"]= new[0]\n",
        "  \n",
        "# making separate last name column from new data frame\n",
        "data2[\"Disount\"]= new[1]\n",
        "  \n",
        "# Dropping old Name columns\n",
        "data2.drop(columns =[\"blank\"], inplace = True)\n",
        "  \n",
        "# df display\n",
        "data2"
      ],
      "execution_count": null,
      "outputs": [
        {
          "output_type": "stream",
          "name": "stderr",
          "text": [
            "/usr/local/lib/python3.7/dist-packages/ipykernel_launcher.py:4: SettingWithCopyWarning: \n",
            "A value is trying to be set on a copy of a slice from a DataFrame.\n",
            "Try using .loc[row_indexer,col_indexer] = value instead\n",
            "\n",
            "See the caveats in the documentation: https://pandas.pydata.org/pandas-docs/stable/user_guide/indexing.html#returning-a-view-versus-a-copy\n",
            "  after removing the cwd from sys.path.\n",
            "/usr/local/lib/python3.7/dist-packages/ipykernel_launcher.py:7: SettingWithCopyWarning: \n",
            "A value is trying to be set on a copy of a slice from a DataFrame.\n",
            "Try using .loc[row_indexer,col_indexer] = value instead\n",
            "\n",
            "See the caveats in the documentation: https://pandas.pydata.org/pandas-docs/stable/user_guide/indexing.html#returning-a-view-versus-a-copy\n",
            "  import sys\n"
          ]
        },
        {
          "output_type": "error",
          "ename": "KeyError",
          "evalue": "ignored",
          "traceback": [
            "\u001b[0;31m---------------------------------------------------------------------------\u001b[0m",
            "\u001b[0;31mKeyError\u001b[0m                                  Traceback (most recent call last)",
            "\u001b[0;32m<ipython-input-6-688df2dba983>\u001b[0m in \u001b[0;36m<module>\u001b[0;34m()\u001b[0m\n\u001b[1;32m      8\u001b[0m \u001b[0;34m\u001b[0m\u001b[0m\n\u001b[1;32m      9\u001b[0m \u001b[0;31m# Dropping old Name columns\u001b[0m\u001b[0;34m\u001b[0m\u001b[0;34m\u001b[0m\u001b[0;34m\u001b[0m\u001b[0m\n\u001b[0;32m---> 10\u001b[0;31m \u001b[0mdata2\u001b[0m\u001b[0;34m.\u001b[0m\u001b[0mdrop\u001b[0m\u001b[0;34m(\u001b[0m\u001b[0mcolumns\u001b[0m \u001b[0;34m=\u001b[0m\u001b[0;34m[\u001b[0m\u001b[0;34m\"blank\"\u001b[0m\u001b[0;34m]\u001b[0m\u001b[0;34m,\u001b[0m \u001b[0minplace\u001b[0m \u001b[0;34m=\u001b[0m \u001b[0;32mTrue\u001b[0m\u001b[0;34m)\u001b[0m\u001b[0;34m\u001b[0m\u001b[0;34m\u001b[0m\u001b[0m\n\u001b[0m\u001b[1;32m     11\u001b[0m \u001b[0;34m\u001b[0m\u001b[0m\n\u001b[1;32m     12\u001b[0m \u001b[0;31m# df display\u001b[0m\u001b[0;34m\u001b[0m\u001b[0;34m\u001b[0m\u001b[0;34m\u001b[0m\u001b[0m\n",
            "\u001b[0;32m/usr/local/lib/python3.7/dist-packages/pandas/core/frame.py\u001b[0m in \u001b[0;36mdrop\u001b[0;34m(self, labels, axis, index, columns, level, inplace, errors)\u001b[0m\n\u001b[1;32m   4172\u001b[0m             \u001b[0mlevel\u001b[0m\u001b[0;34m=\u001b[0m\u001b[0mlevel\u001b[0m\u001b[0;34m,\u001b[0m\u001b[0;34m\u001b[0m\u001b[0;34m\u001b[0m\u001b[0m\n\u001b[1;32m   4173\u001b[0m             \u001b[0minplace\u001b[0m\u001b[0;34m=\u001b[0m\u001b[0minplace\u001b[0m\u001b[0;34m,\u001b[0m\u001b[0;34m\u001b[0m\u001b[0;34m\u001b[0m\u001b[0m\n\u001b[0;32m-> 4174\u001b[0;31m             \u001b[0merrors\u001b[0m\u001b[0;34m=\u001b[0m\u001b[0merrors\u001b[0m\u001b[0;34m,\u001b[0m\u001b[0;34m\u001b[0m\u001b[0;34m\u001b[0m\u001b[0m\n\u001b[0m\u001b[1;32m   4175\u001b[0m         )\n\u001b[1;32m   4176\u001b[0m \u001b[0;34m\u001b[0m\u001b[0m\n",
            "\u001b[0;32m/usr/local/lib/python3.7/dist-packages/pandas/core/generic.py\u001b[0m in \u001b[0;36mdrop\u001b[0;34m(self, labels, axis, index, columns, level, inplace, errors)\u001b[0m\n\u001b[1;32m   3887\u001b[0m         \u001b[0;32mfor\u001b[0m \u001b[0maxis\u001b[0m\u001b[0;34m,\u001b[0m \u001b[0mlabels\u001b[0m \u001b[0;32min\u001b[0m \u001b[0maxes\u001b[0m\u001b[0;34m.\u001b[0m\u001b[0mitems\u001b[0m\u001b[0;34m(\u001b[0m\u001b[0;34m)\u001b[0m\u001b[0;34m:\u001b[0m\u001b[0;34m\u001b[0m\u001b[0;34m\u001b[0m\u001b[0m\n\u001b[1;32m   3888\u001b[0m             \u001b[0;32mif\u001b[0m \u001b[0mlabels\u001b[0m \u001b[0;32mis\u001b[0m \u001b[0;32mnot\u001b[0m \u001b[0;32mNone\u001b[0m\u001b[0;34m:\u001b[0m\u001b[0;34m\u001b[0m\u001b[0;34m\u001b[0m\u001b[0m\n\u001b[0;32m-> 3889\u001b[0;31m                 \u001b[0mobj\u001b[0m \u001b[0;34m=\u001b[0m \u001b[0mobj\u001b[0m\u001b[0;34m.\u001b[0m\u001b[0m_drop_axis\u001b[0m\u001b[0;34m(\u001b[0m\u001b[0mlabels\u001b[0m\u001b[0;34m,\u001b[0m \u001b[0maxis\u001b[0m\u001b[0;34m,\u001b[0m \u001b[0mlevel\u001b[0m\u001b[0;34m=\u001b[0m\u001b[0mlevel\u001b[0m\u001b[0;34m,\u001b[0m \u001b[0merrors\u001b[0m\u001b[0;34m=\u001b[0m\u001b[0merrors\u001b[0m\u001b[0;34m)\u001b[0m\u001b[0;34m\u001b[0m\u001b[0;34m\u001b[0m\u001b[0m\n\u001b[0m\u001b[1;32m   3890\u001b[0m \u001b[0;34m\u001b[0m\u001b[0m\n\u001b[1;32m   3891\u001b[0m         \u001b[0;32mif\u001b[0m \u001b[0minplace\u001b[0m\u001b[0;34m:\u001b[0m\u001b[0;34m\u001b[0m\u001b[0;34m\u001b[0m\u001b[0m\n",
            "\u001b[0;32m/usr/local/lib/python3.7/dist-packages/pandas/core/generic.py\u001b[0m in \u001b[0;36m_drop_axis\u001b[0;34m(self, labels, axis, level, errors)\u001b[0m\n\u001b[1;32m   3921\u001b[0m                 \u001b[0mnew_axis\u001b[0m \u001b[0;34m=\u001b[0m \u001b[0maxis\u001b[0m\u001b[0;34m.\u001b[0m\u001b[0mdrop\u001b[0m\u001b[0;34m(\u001b[0m\u001b[0mlabels\u001b[0m\u001b[0;34m,\u001b[0m \u001b[0mlevel\u001b[0m\u001b[0;34m=\u001b[0m\u001b[0mlevel\u001b[0m\u001b[0;34m,\u001b[0m \u001b[0merrors\u001b[0m\u001b[0;34m=\u001b[0m\u001b[0merrors\u001b[0m\u001b[0;34m)\u001b[0m\u001b[0;34m\u001b[0m\u001b[0;34m\u001b[0m\u001b[0m\n\u001b[1;32m   3922\u001b[0m             \u001b[0;32melse\u001b[0m\u001b[0;34m:\u001b[0m\u001b[0;34m\u001b[0m\u001b[0;34m\u001b[0m\u001b[0m\n\u001b[0;32m-> 3923\u001b[0;31m                 \u001b[0mnew_axis\u001b[0m \u001b[0;34m=\u001b[0m \u001b[0maxis\u001b[0m\u001b[0;34m.\u001b[0m\u001b[0mdrop\u001b[0m\u001b[0;34m(\u001b[0m\u001b[0mlabels\u001b[0m\u001b[0;34m,\u001b[0m \u001b[0merrors\u001b[0m\u001b[0;34m=\u001b[0m\u001b[0merrors\u001b[0m\u001b[0;34m)\u001b[0m\u001b[0;34m\u001b[0m\u001b[0;34m\u001b[0m\u001b[0m\n\u001b[0m\u001b[1;32m   3924\u001b[0m             \u001b[0mresult\u001b[0m \u001b[0;34m=\u001b[0m \u001b[0mself\u001b[0m\u001b[0;34m.\u001b[0m\u001b[0mreindex\u001b[0m\u001b[0;34m(\u001b[0m\u001b[0;34m**\u001b[0m\u001b[0;34m{\u001b[0m\u001b[0maxis_name\u001b[0m\u001b[0;34m:\u001b[0m \u001b[0mnew_axis\u001b[0m\u001b[0;34m}\u001b[0m\u001b[0;34m)\u001b[0m\u001b[0;34m\u001b[0m\u001b[0;34m\u001b[0m\u001b[0m\n\u001b[1;32m   3925\u001b[0m \u001b[0;34m\u001b[0m\u001b[0m\n",
            "\u001b[0;32m/usr/local/lib/python3.7/dist-packages/pandas/core/indexes/base.py\u001b[0m in \u001b[0;36mdrop\u001b[0;34m(self, labels, errors)\u001b[0m\n\u001b[1;32m   5285\u001b[0m         \u001b[0;32mif\u001b[0m \u001b[0mmask\u001b[0m\u001b[0;34m.\u001b[0m\u001b[0many\u001b[0m\u001b[0;34m(\u001b[0m\u001b[0;34m)\u001b[0m\u001b[0;34m:\u001b[0m\u001b[0;34m\u001b[0m\u001b[0;34m\u001b[0m\u001b[0m\n\u001b[1;32m   5286\u001b[0m             \u001b[0;32mif\u001b[0m \u001b[0merrors\u001b[0m \u001b[0;34m!=\u001b[0m \u001b[0;34m\"ignore\"\u001b[0m\u001b[0;34m:\u001b[0m\u001b[0;34m\u001b[0m\u001b[0;34m\u001b[0m\u001b[0m\n\u001b[0;32m-> 5287\u001b[0;31m                 \u001b[0;32mraise\u001b[0m \u001b[0mKeyError\u001b[0m\u001b[0;34m(\u001b[0m\u001b[0;34mf\"{labels[mask]} not found in axis\"\u001b[0m\u001b[0;34m)\u001b[0m\u001b[0;34m\u001b[0m\u001b[0;34m\u001b[0m\u001b[0m\n\u001b[0m\u001b[1;32m   5288\u001b[0m             \u001b[0mindexer\u001b[0m \u001b[0;34m=\u001b[0m \u001b[0mindexer\u001b[0m\u001b[0;34m[\u001b[0m\u001b[0;34m~\u001b[0m\u001b[0mmask\u001b[0m\u001b[0;34m]\u001b[0m\u001b[0;34m\u001b[0m\u001b[0;34m\u001b[0m\u001b[0m\n\u001b[1;32m   5289\u001b[0m         \u001b[0;32mreturn\u001b[0m \u001b[0mself\u001b[0m\u001b[0;34m.\u001b[0m\u001b[0mdelete\u001b[0m\u001b[0;34m(\u001b[0m\u001b[0mindexer\u001b[0m\u001b[0;34m)\u001b[0m\u001b[0;34m\u001b[0m\u001b[0;34m\u001b[0m\u001b[0m\n",
            "\u001b[0;31mKeyError\u001b[0m: \"['blank'] not found in axis\""
          ]
        }
      ]
    },
    {
      "cell_type": "code",
      "metadata": {
        "colab": {
          "base_uri": "https://localhost:8080/",
          "height": 770
        },
        "id": "1301o0FimtOz",
        "outputId": "b5f7c6fe-e981-40de-891b-29ebcce2752d"
      },
      "source": [
        "data2"
      ],
      "execution_count": null,
      "outputs": [
        {
          "output_type": "execute_result",
          "data": {
            "text/html": [
              "<div>\n",
              "<style scoped>\n",
              "    .dataframe tbody tr th:only-of-type {\n",
              "        vertical-align: middle;\n",
              "    }\n",
              "\n",
              "    .dataframe tbody tr th {\n",
              "        vertical-align: top;\n",
              "    }\n",
              "\n",
              "    .dataframe thead th {\n",
              "        text-align: right;\n",
              "    }\n",
              "</style>\n",
              "<table border=\"1\" class=\"dataframe\">\n",
              "  <thead>\n",
              "    <tr style=\"text-align: right;\">\n",
              "      <th></th>\n",
              "      <th>Title</th>\n",
              "      <th>Title_URL</th>\n",
              "      <th>ProductRating</th>\n",
              "      <th>ProductDes</th>\n",
              "      <th>Price</th>\n",
              "      <th>productstrike</th>\n",
              "      <th>Discount</th>\n",
              "      <th>Disount</th>\n",
              "    </tr>\n",
              "  </thead>\n",
              "  <tbody>\n",
              "    <tr>\n",
              "      <th>0</th>\n",
              "      <td>ADIDAS</td>\n",
              "      <td>https://www.flipkart.com/adidas-original-cotto...</td>\n",
              "      <td>4.2</td>\n",
              "      <td>Original Cotton Flat Knit (AD-203) (Grey Mel/W...</td>\n",
              "      <td>₹331</td>\n",
              "      <td>₹349</td>\n",
              "      <td>5%</td>\n",
              "      <td>off</td>\n",
              "    </tr>\n",
              "    <tr>\n",
              "      <th>1</th>\n",
              "      <td>ADIDAS</td>\n",
              "      <td>https://www.flipkart.com/adidas-original-cotto...</td>\n",
              "      <td>4.3</td>\n",
              "      <td>Original Cotton Flat Knit (AD-203) (Grey Mel/W...</td>\n",
              "      <td>₹331</td>\n",
              "      <td>₹349</td>\n",
              "      <td>5%</td>\n",
              "      <td>off</td>\n",
              "    </tr>\n",
              "    <tr>\n",
              "      <th>2</th>\n",
              "      <td>ADIDAS</td>\n",
              "      <td>https://www.flipkart.com/adidas-original-cotto...</td>\n",
              "      <td>4.3</td>\n",
              "      <td>Original Cotton Flat Knit (AD-203) (Grey Mel/W...</td>\n",
              "      <td>₹331</td>\n",
              "      <td>₹349</td>\n",
              "      <td>5%</td>\n",
              "      <td>off</td>\n",
              "    </tr>\n",
              "    <tr>\n",
              "      <th>3</th>\n",
              "      <td>ADIDAS</td>\n",
              "      <td>https://www.flipkart.com/adidas-original-cotto...</td>\n",
              "      <td>4.3</td>\n",
              "      <td>Original Cotton Flat Knit (AD-203) (Grey Mel/W...</td>\n",
              "      <td>₹331</td>\n",
              "      <td>₹349</td>\n",
              "      <td>5%</td>\n",
              "      <td>off</td>\n",
              "    </tr>\n",
              "    <tr>\n",
              "      <th>4</th>\n",
              "      <td>ADIDAS</td>\n",
              "      <td>https://www.flipkart.com/adidas-original-cotto...</td>\n",
              "      <td>4.4</td>\n",
              "      <td>Original Cotton Flat Knit (AD-203) (Grey Mel/W...</td>\n",
              "      <td>₹331</td>\n",
              "      <td>₹349</td>\n",
              "      <td>5%</td>\n",
              "      <td>off</td>\n",
              "    </tr>\n",
              "    <tr>\n",
              "      <th>...</th>\n",
              "      <td>...</td>\n",
              "      <td>...</td>\n",
              "      <td>...</td>\n",
              "      <td>...</td>\n",
              "      <td>...</td>\n",
              "      <td>...</td>\n",
              "      <td>...</td>\n",
              "      <td>...</td>\n",
              "    </tr>\n",
              "    <tr>\n",
              "      <th>9007</th>\n",
              "      <td>LUX</td>\n",
              "      <td>https://www.flipkart.com/lux-cozi-men-vest/p/i...</td>\n",
              "      <td>4.3</td>\n",
              "      <td>LUX cozi Men Vest</td>\n",
              "      <td>₹404</td>\n",
              "      <td>₹435</td>\n",
              "      <td>7%</td>\n",
              "      <td>off</td>\n",
              "    </tr>\n",
              "    <tr>\n",
              "      <th>9008</th>\n",
              "      <td>LUX</td>\n",
              "      <td>https://www.flipkart.com/lux-cozi-men-vest/p/i...</td>\n",
              "      <td>4.4</td>\n",
              "      <td>LUX cozi Men Vest</td>\n",
              "      <td>₹404</td>\n",
              "      <td>₹435</td>\n",
              "      <td>7%</td>\n",
              "      <td>off</td>\n",
              "    </tr>\n",
              "    <tr>\n",
              "      <th>9009</th>\n",
              "      <td>LUX</td>\n",
              "      <td>https://www.flipkart.com/lux-cozi-men-vest/p/i...</td>\n",
              "      <td>4.5</td>\n",
              "      <td>LUX cozi Men Vest</td>\n",
              "      <td>₹404</td>\n",
              "      <td>₹435</td>\n",
              "      <td>7%</td>\n",
              "      <td>off</td>\n",
              "    </tr>\n",
              "    <tr>\n",
              "      <th>9010</th>\n",
              "      <td>LUX</td>\n",
              "      <td>https://www.flipkart.com/lux-cozi-men-vest/p/i...</td>\n",
              "      <td>4.1</td>\n",
              "      <td>LUX cozi Men Vest</td>\n",
              "      <td>₹404</td>\n",
              "      <td>₹435</td>\n",
              "      <td>7%</td>\n",
              "      <td>off</td>\n",
              "    </tr>\n",
              "    <tr>\n",
              "      <th>9011</th>\n",
              "      <td>LUX</td>\n",
              "      <td>https://www.flipkart.com/lux-cozi-men-vest/p/i...</td>\n",
              "      <td>4.1</td>\n",
              "      <td>LUX cozi Men Vest</td>\n",
              "      <td>₹404</td>\n",
              "      <td>₹435</td>\n",
              "      <td>7%</td>\n",
              "      <td>off</td>\n",
              "    </tr>\n",
              "  </tbody>\n",
              "</table>\n",
              "<p>5446 rows × 8 columns</p>\n",
              "</div>"
            ],
            "text/plain": [
              "       Title  ... Disount\n",
              "0     ADIDAS  ...     off\n",
              "1     ADIDAS  ...     off\n",
              "2     ADIDAS  ...     off\n",
              "3     ADIDAS  ...     off\n",
              "4     ADIDAS  ...     off\n",
              "...      ...  ...     ...\n",
              "9007     LUX  ...     off\n",
              "9008     LUX  ...     off\n",
              "9009     LUX  ...     off\n",
              "9010     LUX  ...     off\n",
              "9011     LUX  ...     off\n",
              "\n",
              "[5446 rows x 8 columns]"
            ]
          },
          "metadata": {},
          "execution_count": 7
        }
      ]
    },
    {
      "cell_type": "code",
      "metadata": {
        "id": "BT_f8u0om609"
      },
      "source": [
        "data3 = data2.drop('Disount',axis=1)"
      ],
      "execution_count": null,
      "outputs": []
    },
    {
      "cell_type": "code",
      "metadata": {
        "colab": {
          "base_uri": "https://localhost:8080/",
          "height": 683
        },
        "id": "DqNkIrMLnH1R",
        "outputId": "9411b4c8-71dc-4064-8070-6c81d940152d"
      },
      "source": [
        "data3"
      ],
      "execution_count": null,
      "outputs": [
        {
          "output_type": "execute_result",
          "data": {
            "text/html": [
              "<div>\n",
              "<style scoped>\n",
              "    .dataframe tbody tr th:only-of-type {\n",
              "        vertical-align: middle;\n",
              "    }\n",
              "\n",
              "    .dataframe tbody tr th {\n",
              "        vertical-align: top;\n",
              "    }\n",
              "\n",
              "    .dataframe thead th {\n",
              "        text-align: right;\n",
              "    }\n",
              "</style>\n",
              "<table border=\"1\" class=\"dataframe\">\n",
              "  <thead>\n",
              "    <tr style=\"text-align: right;\">\n",
              "      <th></th>\n",
              "      <th>Title</th>\n",
              "      <th>Title_URL</th>\n",
              "      <th>ProductRating</th>\n",
              "      <th>ProductDes</th>\n",
              "      <th>Price</th>\n",
              "      <th>productstrike</th>\n",
              "      <th>Discount</th>\n",
              "    </tr>\n",
              "  </thead>\n",
              "  <tbody>\n",
              "    <tr>\n",
              "      <th>0</th>\n",
              "      <td>ADIDAS</td>\n",
              "      <td>https://www.flipkart.com/adidas-original-cotto...</td>\n",
              "      <td>4.2</td>\n",
              "      <td>Original Cotton Flat Knit (AD-203) (Grey Mel/W...</td>\n",
              "      <td>₹331</td>\n",
              "      <td>₹349</td>\n",
              "      <td>5%</td>\n",
              "    </tr>\n",
              "    <tr>\n",
              "      <th>1</th>\n",
              "      <td>ADIDAS</td>\n",
              "      <td>https://www.flipkart.com/adidas-original-cotto...</td>\n",
              "      <td>4.3</td>\n",
              "      <td>Original Cotton Flat Knit (AD-203) (Grey Mel/W...</td>\n",
              "      <td>₹331</td>\n",
              "      <td>₹349</td>\n",
              "      <td>5%</td>\n",
              "    </tr>\n",
              "    <tr>\n",
              "      <th>2</th>\n",
              "      <td>ADIDAS</td>\n",
              "      <td>https://www.flipkart.com/adidas-original-cotto...</td>\n",
              "      <td>4.3</td>\n",
              "      <td>Original Cotton Flat Knit (AD-203) (Grey Mel/W...</td>\n",
              "      <td>₹331</td>\n",
              "      <td>₹349</td>\n",
              "      <td>5%</td>\n",
              "    </tr>\n",
              "    <tr>\n",
              "      <th>3</th>\n",
              "      <td>ADIDAS</td>\n",
              "      <td>https://www.flipkart.com/adidas-original-cotto...</td>\n",
              "      <td>4.3</td>\n",
              "      <td>Original Cotton Flat Knit (AD-203) (Grey Mel/W...</td>\n",
              "      <td>₹331</td>\n",
              "      <td>₹349</td>\n",
              "      <td>5%</td>\n",
              "    </tr>\n",
              "    <tr>\n",
              "      <th>4</th>\n",
              "      <td>ADIDAS</td>\n",
              "      <td>https://www.flipkart.com/adidas-original-cotto...</td>\n",
              "      <td>4.4</td>\n",
              "      <td>Original Cotton Flat Knit (AD-203) (Grey Mel/W...</td>\n",
              "      <td>₹331</td>\n",
              "      <td>₹349</td>\n",
              "      <td>5%</td>\n",
              "    </tr>\n",
              "    <tr>\n",
              "      <th>...</th>\n",
              "      <td>...</td>\n",
              "      <td>...</td>\n",
              "      <td>...</td>\n",
              "      <td>...</td>\n",
              "      <td>...</td>\n",
              "      <td>...</td>\n",
              "      <td>...</td>\n",
              "    </tr>\n",
              "    <tr>\n",
              "      <th>9007</th>\n",
              "      <td>LUX</td>\n",
              "      <td>https://www.flipkart.com/lux-cozi-men-vest/p/i...</td>\n",
              "      <td>4.3</td>\n",
              "      <td>LUX cozi Men Vest</td>\n",
              "      <td>₹404</td>\n",
              "      <td>₹435</td>\n",
              "      <td>7%</td>\n",
              "    </tr>\n",
              "    <tr>\n",
              "      <th>9008</th>\n",
              "      <td>LUX</td>\n",
              "      <td>https://www.flipkart.com/lux-cozi-men-vest/p/i...</td>\n",
              "      <td>4.4</td>\n",
              "      <td>LUX cozi Men Vest</td>\n",
              "      <td>₹404</td>\n",
              "      <td>₹435</td>\n",
              "      <td>7%</td>\n",
              "    </tr>\n",
              "    <tr>\n",
              "      <th>9009</th>\n",
              "      <td>LUX</td>\n",
              "      <td>https://www.flipkart.com/lux-cozi-men-vest/p/i...</td>\n",
              "      <td>4.5</td>\n",
              "      <td>LUX cozi Men Vest</td>\n",
              "      <td>₹404</td>\n",
              "      <td>₹435</td>\n",
              "      <td>7%</td>\n",
              "    </tr>\n",
              "    <tr>\n",
              "      <th>9010</th>\n",
              "      <td>LUX</td>\n",
              "      <td>https://www.flipkart.com/lux-cozi-men-vest/p/i...</td>\n",
              "      <td>4.1</td>\n",
              "      <td>LUX cozi Men Vest</td>\n",
              "      <td>₹404</td>\n",
              "      <td>₹435</td>\n",
              "      <td>7%</td>\n",
              "    </tr>\n",
              "    <tr>\n",
              "      <th>9011</th>\n",
              "      <td>LUX</td>\n",
              "      <td>https://www.flipkart.com/lux-cozi-men-vest/p/i...</td>\n",
              "      <td>4.1</td>\n",
              "      <td>LUX cozi Men Vest</td>\n",
              "      <td>₹404</td>\n",
              "      <td>₹435</td>\n",
              "      <td>7%</td>\n",
              "    </tr>\n",
              "  </tbody>\n",
              "</table>\n",
              "<p>5446 rows × 7 columns</p>\n",
              "</div>"
            ],
            "text/plain": [
              "       Title  ... Discount\n",
              "0     ADIDAS  ...       5%\n",
              "1     ADIDAS  ...       5%\n",
              "2     ADIDAS  ...       5%\n",
              "3     ADIDAS  ...       5%\n",
              "4     ADIDAS  ...       5%\n",
              "...      ...  ...      ...\n",
              "9007     LUX  ...       7%\n",
              "9008     LUX  ...       7%\n",
              "9009     LUX  ...       7%\n",
              "9010     LUX  ...       7%\n",
              "9011     LUX  ...       7%\n",
              "\n",
              "[5446 rows x 7 columns]"
            ]
          },
          "metadata": {},
          "execution_count": 9
        }
      ]
    },
    {
      "cell_type": "code",
      "metadata": {
        "colab": {
          "base_uri": "https://localhost:8080/"
        },
        "id": "M8DhgFnunIc_",
        "outputId": "70b5b3eb-6d8a-4a02-bcfc-3be2bdd554ae"
      },
      "source": [
        "data3['Title'].unique()"
      ],
      "execution_count": null,
      "outputs": [
        {
          "output_type": "execute_result",
          "data": {
            "text/plain": [
              "array(['ADIDAS', 'Anand', 'Anand SAREES', 'Billion', 'BLIVE',\n",
              "       'Breil By Fort Collins', 'Broen', 'Cartyshop', 'Classic Polo',\n",
              "       'DealSeven fashion', 'Dollar Bigboss', 'Eyebogler', 'FABdon',\n",
              "       'Fabwomen', 'Fort Collins', 'Foxter', 'FTC FASHIONS', 'GYRFALCON',\n",
              "       'HARPA', 'HELMONT', 'Kizaar', 'ksevencreation', 'LEE', 'Leelavati',\n",
              "       \"LEVI'S\", 'Lux Venus', 'M7 By Metronaut', 'ME Stores', 'METRONAUT',\n",
              "       'Navy Sport', 'NIKE', 'PARK AVENUE', 'PARX', 'PETER ENGLAND',\n",
              "       'Peter England University', 'PUMA', 'Raymond', 'RCSP', 'Reya',\n",
              "       'Roadster', 'Seven Rocks', 'Sky World', 'Smartees', 'Spykar',\n",
              "       'Surhi', 'Trijal Fab', 'TRIPR', 'Try This', 'Vamear Exclusive',\n",
              "       'Vega 1st Fashion', 'VILLAGIUS', 'Vitaan', 'XYXX', 'LUX'],\n",
              "      dtype=object)"
            ]
          },
          "metadata": {},
          "execution_count": 10
        }
      ]
    },
    {
      "cell_type": "code",
      "metadata": {
        "colab": {
          "base_uri": "https://localhost:8080/"
        },
        "id": "EjIRxYKMrAAr",
        "outputId": "efa52ab1-c0d4-4d13-8539-c4a0b7fa9469"
      },
      "source": [
        "data3['Title'].value_counts().unique()"
      ],
      "execution_count": null,
      "outputs": [
        {
          "output_type": "execute_result",
          "data": {
            "text/plain": [
              "array([644, 606, 300, 297, 257, 207, 206, 193, 168, 158, 152, 147, 145,\n",
              "       133, 121, 115, 102,  95,  91,  89,  88,  83,  81,  76,  74,  67,\n",
              "        66,  62,  60,  52,  43,  42,  39,  36,  35,  26,  22,  18,  16,\n",
              "        15,  13,  11,   9,   8,   7,   5,   4,   3,   1])"
            ]
          },
          "metadata": {},
          "execution_count": 11
        }
      ]
    },
    {
      "cell_type": "code",
      "metadata": {
        "id": "FBRRR9qGnQ4X"
      },
      "source": [
        "data3.to_csv('flipkart32.csv', index=False)"
      ],
      "execution_count": null,
      "outputs": []
    },
    {
      "cell_type": "code",
      "metadata": {
        "id": "GUNtU-aBn3gA"
      },
      "source": [
        "import plotly.graph_objects as go\n",
        "from plotly.subplots import make_subplots\n",
        "\n",
        "labels = (['ADIDAS', 'Anand', 'Anand SAREES', 'Billion', 'BLIVE',\n",
        "       'Breil By Fort Collins', 'Broen', 'Cartyshop', 'Classic Polo',\n",
        "       'DealSeven fashion', 'Dollar Bigboss', 'Eyebogler', 'FABdon',\n",
        "       'Fabwomen', 'Fort Collins', 'Foxter', 'FTC FASHIONS', 'GYRFALCON',\n",
        "       'HARPA', 'HELMONT', 'Kizaar', 'ksevencreation', 'LEE', 'Leelavati',\n",
        "       \"LEVI'S\", 'Lux Venus', 'M7 By Metronaut', 'ME Stores', 'METRONAUT',\n",
        "       'Navy Sport', 'NIKE', 'PARK AVENUE', 'PARX', 'PETER ENGLAND',\n",
        "       'Peter England University', 'PUMA', 'Raymond', 'RCSP', 'Reya',\n",
        "       'Roadster', 'Seven Rocks', 'Sky World', 'Smartees', 'Spykar',\n",
        "       'Surhi', 'Trijal Fab', 'TRIPR', 'Try This', 'Vamear Exclusive',\n",
        "       'Vega 1st Fashion', 'VILLAGIUS', 'Vitaan', 'XYXX', 'LUX']\n",
        "# Create subplots: use 'domain' type for Pie subplot\n",
        "fig = make_subplots(rows=1, cols=2, specs=[[{'type':'domain'}, {'type':'domain'}]])\n",
        "fig.add_trace(go.Pie(labels=labels, values=[[644, 606, 300, 297, 257, 207, 206, 193, 168, 158, 152, 147, 145,\n",
        "       133, 121, 115, 102,  95,  91,  89,  88,  83,  81,  76,  74,  67,\n",
        "        66,  62,  60,  52,  43,  42,  39,  36,  35,  26,  22,  18,  16,\n",
        "        15,  13,  11,   9,   8,   7,   5,   4,   3,   1]],pull=[0.02,0.02,0.02,0.02,0.02,0.02,0.02,0.02,\n",
        "                                                                              0.02,0.02,0.02,0.02,0.02,0.02,0.02,0.02,\n",
        "                                                                               0.02,0.02,0.02,0.02,0.02,0.02,0.02,0.02,\n",
        "                                                                              0.02], name=\"Highest Selling Brands\"),\n",
        "              1, 1)\n",
        "fig.add_trace(go.Pie(labels=labels, values=[97,   88,   83,   80,   78,   73,   67,   65,   63,   57,   49,\n",
        "         47,   38,   36,   27,    4,    1],pull=[0.02,0.02,0.02,0.02,0.02,0.02,0.02,0.02,\n",
        "                                                                              0.02,0.02,0.02,0.02,0.02,0.02,0.02,0.02,0.02,0.02\n",
        "                                                                               ], name=\"Lowest Selling brands\"),\n",
        "              1, 2)\n",
        "\n",
        "# Use `hole` to create a donut-like pie chart\n",
        "fig.update_traces(hole=.2, hoverinfo=\"label+percent+name\")\n",
        "\n",
        "fig.update_layout(\n",
        "    title_text=\"Brand Analysis\",\n",
        "    # Add annotations in the center of the donut pies.\n",
        "    annotations=[dict(text='', x=0.18, y=0.5, font_size=20, showarrow=False),\n",
        "                 dict(text='', x=0.82, y=0.5, font_size=20, showarrow=False)]\n",
        "                  \n",
        "                 )\n",
        "fig.show()\n",
        "\n",
        "\n",
        "\n"
      ],
      "execution_count": null,
      "outputs": []
    },
    {
      "cell_type": "code",
      "metadata": {
        "colab": {
          "base_uri": "https://localhost:8080/",
          "height": 542
        },
        "id": "YeNhg64ZrY-S",
        "outputId": "2adc10c8-a00c-463a-8ab6-809ade90b426"
      },
      "source": [
        "import plotly.graph_objects as go\n",
        "\n",
        "labels = ['ADIDAS', 'Anand', 'Anand SAREES', 'Billion', 'BLIVE',\n",
        "       'Breil By Fort Collins', 'Broen', 'Cartyshop', 'Classic Polo',\n",
        "       'DealSeven fashion', 'Dollar Bigboss', 'Eyebogler', 'FABdon',\n",
        "       'Fabwomen', 'Fort Collins', 'Foxter', 'FTC FASHIONS', 'GYRFALCON',\n",
        "       'HARPA', 'HELMONT', 'Kizaar', 'ksevencreation', 'LEE', 'Leelavati',\n",
        "       \"LEVI'S\", 'Lux Venus', 'M7 By Metronaut', 'ME Stores', 'METRONAUT',\n",
        "       'Navy Sport', 'NIKE', 'PARK AVENUE', 'PARX', 'PETER ENGLAND',\n",
        "       'Peter England University', 'PUMA', 'Raymond', 'RCSP', 'Reya',\n",
        "       'Roadster', 'Seven Rocks', 'Sky World', 'Smartees', 'Spykar',\n",
        "       'Surhi', 'Trijal Fab', 'TRIPR', 'Try This', 'Vamear Exclusive',\n",
        "       'Vega 1st Fashion', 'VILLAGIUS', 'Vitaan', 'XYXX', 'LUX']\n",
        "\n",
        "\n",
        "values = [644, 606, 300, 297, 257, 207, 206, 193, 168, 158, 152, 147, 145,\n",
        "       133, 121, 115, 102,  95,  91,  89,  88,  83,  81,  76,  74,  67,\n",
        "        66,  62,  60,  52,  43,  42,  39,  36,  35,  26,  22,  18,  16,\n",
        "        15,  13,  11,   9,   8,   7,   5,   4,   3,   1]\n",
        "# pull is given as a fraction of the pie radius\n",
        "fig = go.Figure(data=[go.Pie(labels=labels, values=values)])\n",
        "fig.show()"
      ],
      "execution_count": null,
      "outputs": [
        {
          "output_type": "display_data",
          "data": {
            "text/html": [
              "<html>\n",
              "<head><meta charset=\"utf-8\" /></head>\n",
              "<body>\n",
              "    <div>\n",
              "            <script src=\"https://cdnjs.cloudflare.com/ajax/libs/mathjax/2.7.5/MathJax.js?config=TeX-AMS-MML_SVG\"></script><script type=\"text/javascript\">if (window.MathJax) {MathJax.Hub.Config({SVG: {font: \"STIX-Web\"}});}</script>\n",
              "                <script type=\"text/javascript\">window.PlotlyConfig = {MathJaxConfig: 'local'};</script>\n",
              "        <script src=\"https://cdn.plot.ly/plotly-latest.min.js\"></script>    \n",
              "            <div id=\"43116cef-794f-412a-9b83-f8d20de0bd0f\" class=\"plotly-graph-div\" style=\"height:525px; width:100%;\"></div>\n",
              "            <script type=\"text/javascript\">\n",
              "                \n",
              "                    window.PLOTLYENV=window.PLOTLYENV || {};\n",
              "                    \n",
              "                if (document.getElementById(\"43116cef-794f-412a-9b83-f8d20de0bd0f\")) {\n",
              "                    Plotly.newPlot(\n",
              "                        '43116cef-794f-412a-9b83-f8d20de0bd0f',\n",
              "                        [{\"labels\": [\"ADIDAS\", \"Anand\", \"Anand SAREES\", \"Billion\", \"BLIVE\", \"Breil By Fort Collins\", \"Broen\", \"Cartyshop\", \"Classic Polo\", \"DealSeven fashion\", \"Dollar Bigboss\", \"Eyebogler\", \"FABdon\", \"Fabwomen\", \"Fort Collins\", \"Foxter\", \"FTC FASHIONS\", \"GYRFALCON\", \"HARPA\", \"HELMONT\", \"Kizaar\", \"ksevencreation\", \"LEE\", \"Leelavati\", \"LEVI'S\", \"Lux Venus\", \"M7 By Metronaut\", \"ME Stores\", \"METRONAUT\", \"Navy Sport\", \"NIKE\", \"PARK AVENUE\", \"PARX\", \"PETER ENGLAND\", \"Peter England University\", \"PUMA\", \"Raymond\", \"RCSP\", \"Reya\", \"Roadster\", \"Seven Rocks\", \"Sky World\", \"Smartees\", \"Spykar\", \"Surhi\", \"Trijal Fab\", \"TRIPR\", \"Try This\", \"Vamear Exclusive\", \"Vega 1st Fashion\", \"VILLAGIUS\", \"Vitaan\", \"XYXX\", \"LUX\"], \"type\": \"pie\", \"values\": [644, 606, 300, 297, 257, 207, 206, 193, 168, 158, 152, 147, 145, 133, 121, 115, 102, 95, 91, 89, 88, 83, 81, 76, 74, 67, 66, 62, 60, 52, 43, 42, 39, 36, 35, 26, 22, 18, 16, 15, 13, 11, 9, 8, 7, 5, 4, 3, 1]}],\n",
              "                        {\"template\": {\"data\": {\"bar\": [{\"error_x\": {\"color\": \"#2a3f5f\"}, \"error_y\": {\"color\": \"#2a3f5f\"}, \"marker\": {\"line\": {\"color\": \"#E5ECF6\", \"width\": 0.5}}, \"type\": \"bar\"}], \"barpolar\": [{\"marker\": {\"line\": {\"color\": \"#E5ECF6\", \"width\": 0.5}}, \"type\": \"barpolar\"}], \"carpet\": [{\"aaxis\": {\"endlinecolor\": \"#2a3f5f\", \"gridcolor\": \"white\", \"linecolor\": \"white\", \"minorgridcolor\": \"white\", \"startlinecolor\": \"#2a3f5f\"}, \"baxis\": {\"endlinecolor\": \"#2a3f5f\", \"gridcolor\": \"white\", \"linecolor\": \"white\", \"minorgridcolor\": \"white\", \"startlinecolor\": \"#2a3f5f\"}, \"type\": \"carpet\"}], \"choropleth\": [{\"colorbar\": {\"outlinewidth\": 0, \"ticks\": \"\"}, \"type\": \"choropleth\"}], \"contour\": [{\"colorbar\": {\"outlinewidth\": 0, \"ticks\": \"\"}, \"colorscale\": [[0.0, \"#0d0887\"], [0.1111111111111111, \"#46039f\"], [0.2222222222222222, \"#7201a8\"], [0.3333333333333333, \"#9c179e\"], [0.4444444444444444, \"#bd3786\"], [0.5555555555555556, \"#d8576b\"], [0.6666666666666666, \"#ed7953\"], [0.7777777777777778, \"#fb9f3a\"], [0.8888888888888888, \"#fdca26\"], [1.0, \"#f0f921\"]], \"type\": \"contour\"}], \"contourcarpet\": [{\"colorbar\": {\"outlinewidth\": 0, \"ticks\": \"\"}, \"type\": \"contourcarpet\"}], \"heatmap\": [{\"colorbar\": {\"outlinewidth\": 0, \"ticks\": \"\"}, \"colorscale\": [[0.0, \"#0d0887\"], [0.1111111111111111, \"#46039f\"], [0.2222222222222222, \"#7201a8\"], [0.3333333333333333, \"#9c179e\"], [0.4444444444444444, \"#bd3786\"], [0.5555555555555556, \"#d8576b\"], [0.6666666666666666, \"#ed7953\"], [0.7777777777777778, \"#fb9f3a\"], [0.8888888888888888, \"#fdca26\"], [1.0, \"#f0f921\"]], \"type\": \"heatmap\"}], \"heatmapgl\": [{\"colorbar\": {\"outlinewidth\": 0, \"ticks\": \"\"}, \"colorscale\": [[0.0, \"#0d0887\"], [0.1111111111111111, \"#46039f\"], [0.2222222222222222, \"#7201a8\"], [0.3333333333333333, \"#9c179e\"], [0.4444444444444444, \"#bd3786\"], [0.5555555555555556, \"#d8576b\"], [0.6666666666666666, \"#ed7953\"], [0.7777777777777778, \"#fb9f3a\"], [0.8888888888888888, \"#fdca26\"], [1.0, \"#f0f921\"]], \"type\": \"heatmapgl\"}], \"histogram\": [{\"marker\": {\"colorbar\": {\"outlinewidth\": 0, \"ticks\": \"\"}}, \"type\": \"histogram\"}], \"histogram2d\": [{\"colorbar\": {\"outlinewidth\": 0, \"ticks\": \"\"}, \"colorscale\": [[0.0, \"#0d0887\"], [0.1111111111111111, \"#46039f\"], [0.2222222222222222, \"#7201a8\"], [0.3333333333333333, \"#9c179e\"], [0.4444444444444444, \"#bd3786\"], [0.5555555555555556, \"#d8576b\"], [0.6666666666666666, \"#ed7953\"], [0.7777777777777778, \"#fb9f3a\"], [0.8888888888888888, \"#fdca26\"], [1.0, \"#f0f921\"]], \"type\": \"histogram2d\"}], \"histogram2dcontour\": [{\"colorbar\": {\"outlinewidth\": 0, \"ticks\": \"\"}, \"colorscale\": [[0.0, \"#0d0887\"], [0.1111111111111111, \"#46039f\"], [0.2222222222222222, \"#7201a8\"], [0.3333333333333333, \"#9c179e\"], [0.4444444444444444, \"#bd3786\"], [0.5555555555555556, \"#d8576b\"], [0.6666666666666666, \"#ed7953\"], [0.7777777777777778, \"#fb9f3a\"], [0.8888888888888888, \"#fdca26\"], [1.0, \"#f0f921\"]], \"type\": \"histogram2dcontour\"}], \"mesh3d\": [{\"colorbar\": {\"outlinewidth\": 0, \"ticks\": \"\"}, \"type\": \"mesh3d\"}], \"parcoords\": [{\"line\": {\"colorbar\": {\"outlinewidth\": 0, \"ticks\": \"\"}}, \"type\": \"parcoords\"}], \"pie\": [{\"automargin\": true, \"type\": \"pie\"}], \"scatter\": [{\"marker\": {\"colorbar\": {\"outlinewidth\": 0, \"ticks\": \"\"}}, \"type\": \"scatter\"}], \"scatter3d\": [{\"line\": {\"colorbar\": {\"outlinewidth\": 0, \"ticks\": \"\"}}, \"marker\": {\"colorbar\": {\"outlinewidth\": 0, \"ticks\": \"\"}}, \"type\": \"scatter3d\"}], \"scattercarpet\": [{\"marker\": {\"colorbar\": {\"outlinewidth\": 0, \"ticks\": \"\"}}, \"type\": \"scattercarpet\"}], \"scattergeo\": [{\"marker\": {\"colorbar\": {\"outlinewidth\": 0, \"ticks\": \"\"}}, \"type\": \"scattergeo\"}], \"scattergl\": [{\"marker\": {\"colorbar\": {\"outlinewidth\": 0, \"ticks\": \"\"}}, \"type\": \"scattergl\"}], \"scattermapbox\": [{\"marker\": {\"colorbar\": {\"outlinewidth\": 0, \"ticks\": \"\"}}, \"type\": \"scattermapbox\"}], \"scatterpolar\": [{\"marker\": {\"colorbar\": {\"outlinewidth\": 0, \"ticks\": \"\"}}, \"type\": \"scatterpolar\"}], \"scatterpolargl\": [{\"marker\": {\"colorbar\": {\"outlinewidth\": 0, \"ticks\": \"\"}}, \"type\": \"scatterpolargl\"}], \"scatterternary\": [{\"marker\": {\"colorbar\": {\"outlinewidth\": 0, \"ticks\": \"\"}}, \"type\": \"scatterternary\"}], \"surface\": [{\"colorbar\": {\"outlinewidth\": 0, \"ticks\": \"\"}, \"colorscale\": [[0.0, \"#0d0887\"], [0.1111111111111111, \"#46039f\"], [0.2222222222222222, \"#7201a8\"], [0.3333333333333333, \"#9c179e\"], [0.4444444444444444, \"#bd3786\"], [0.5555555555555556, \"#d8576b\"], [0.6666666666666666, \"#ed7953\"], [0.7777777777777778, \"#fb9f3a\"], [0.8888888888888888, \"#fdca26\"], [1.0, \"#f0f921\"]], \"type\": \"surface\"}], \"table\": [{\"cells\": {\"fill\": {\"color\": \"#EBF0F8\"}, \"line\": {\"color\": \"white\"}}, \"header\": {\"fill\": {\"color\": \"#C8D4E3\"}, \"line\": {\"color\": \"white\"}}, \"type\": \"table\"}]}, \"layout\": {\"annotationdefaults\": {\"arrowcolor\": \"#2a3f5f\", \"arrowhead\": 0, \"arrowwidth\": 1}, \"coloraxis\": {\"colorbar\": {\"outlinewidth\": 0, \"ticks\": \"\"}}, \"colorscale\": {\"diverging\": [[0, \"#8e0152\"], [0.1, \"#c51b7d\"], [0.2, \"#de77ae\"], [0.3, \"#f1b6da\"], [0.4, \"#fde0ef\"], [0.5, \"#f7f7f7\"], [0.6, \"#e6f5d0\"], [0.7, \"#b8e186\"], [0.8, \"#7fbc41\"], [0.9, \"#4d9221\"], [1, \"#276419\"]], \"sequential\": [[0.0, \"#0d0887\"], [0.1111111111111111, \"#46039f\"], [0.2222222222222222, \"#7201a8\"], [0.3333333333333333, \"#9c179e\"], [0.4444444444444444, \"#bd3786\"], [0.5555555555555556, \"#d8576b\"], [0.6666666666666666, \"#ed7953\"], [0.7777777777777778, \"#fb9f3a\"], [0.8888888888888888, \"#fdca26\"], [1.0, \"#f0f921\"]], \"sequentialminus\": [[0.0, \"#0d0887\"], [0.1111111111111111, \"#46039f\"], [0.2222222222222222, \"#7201a8\"], [0.3333333333333333, \"#9c179e\"], [0.4444444444444444, \"#bd3786\"], [0.5555555555555556, \"#d8576b\"], [0.6666666666666666, \"#ed7953\"], [0.7777777777777778, \"#fb9f3a\"], [0.8888888888888888, \"#fdca26\"], [1.0, \"#f0f921\"]]}, \"colorway\": [\"#636efa\", \"#EF553B\", \"#00cc96\", \"#ab63fa\", \"#FFA15A\", \"#19d3f3\", \"#FF6692\", \"#B6E880\", \"#FF97FF\", \"#FECB52\"], \"font\": {\"color\": \"#2a3f5f\"}, \"geo\": {\"bgcolor\": \"white\", \"lakecolor\": \"white\", \"landcolor\": \"#E5ECF6\", \"showlakes\": true, \"showland\": true, \"subunitcolor\": \"white\"}, \"hoverlabel\": {\"align\": \"left\"}, \"hovermode\": \"closest\", \"mapbox\": {\"style\": \"light\"}, \"paper_bgcolor\": \"white\", \"plot_bgcolor\": \"#E5ECF6\", \"polar\": {\"angularaxis\": {\"gridcolor\": \"white\", \"linecolor\": \"white\", \"ticks\": \"\"}, \"bgcolor\": \"#E5ECF6\", \"radialaxis\": {\"gridcolor\": \"white\", \"linecolor\": \"white\", \"ticks\": \"\"}}, \"scene\": {\"xaxis\": {\"backgroundcolor\": \"#E5ECF6\", \"gridcolor\": \"white\", \"gridwidth\": 2, \"linecolor\": \"white\", \"showbackground\": true, \"ticks\": \"\", \"zerolinecolor\": \"white\"}, \"yaxis\": {\"backgroundcolor\": \"#E5ECF6\", \"gridcolor\": \"white\", \"gridwidth\": 2, \"linecolor\": \"white\", \"showbackground\": true, \"ticks\": \"\", \"zerolinecolor\": \"white\"}, \"zaxis\": {\"backgroundcolor\": \"#E5ECF6\", \"gridcolor\": \"white\", \"gridwidth\": 2, \"linecolor\": \"white\", \"showbackground\": true, \"ticks\": \"\", \"zerolinecolor\": \"white\"}}, \"shapedefaults\": {\"line\": {\"color\": \"#2a3f5f\"}}, \"ternary\": {\"aaxis\": {\"gridcolor\": \"white\", \"linecolor\": \"white\", \"ticks\": \"\"}, \"baxis\": {\"gridcolor\": \"white\", \"linecolor\": \"white\", \"ticks\": \"\"}, \"bgcolor\": \"#E5ECF6\", \"caxis\": {\"gridcolor\": \"white\", \"linecolor\": \"white\", \"ticks\": \"\"}}, \"title\": {\"x\": 0.05}, \"xaxis\": {\"automargin\": true, \"gridcolor\": \"white\", \"linecolor\": \"white\", \"ticks\": \"\", \"title\": {\"standoff\": 15}, \"zerolinecolor\": \"white\", \"zerolinewidth\": 2}, \"yaxis\": {\"automargin\": true, \"gridcolor\": \"white\", \"linecolor\": \"white\", \"ticks\": \"\", \"title\": {\"standoff\": 15}, \"zerolinecolor\": \"white\", \"zerolinewidth\": 2}}}},\n",
              "                        {\"responsive\": true}\n",
              "                    ).then(function(){\n",
              "                            \n",
              "var gd = document.getElementById('43116cef-794f-412a-9b83-f8d20de0bd0f');\n",
              "var x = new MutationObserver(function (mutations, observer) {{\n",
              "        var display = window.getComputedStyle(gd).display;\n",
              "        if (!display || display === 'none') {{\n",
              "            console.log([gd, 'removed!']);\n",
              "            Plotly.purge(gd);\n",
              "            observer.disconnect();\n",
              "        }}\n",
              "}});\n",
              "\n",
              "// Listen for the removal of the full notebook cells\n",
              "var notebookContainer = gd.closest('#notebook-container');\n",
              "if (notebookContainer) {{\n",
              "    x.observe(notebookContainer, {childList: true});\n",
              "}}\n",
              "\n",
              "// Listen for the clearing of the current output cell\n",
              "var outputEl = gd.closest('.output');\n",
              "if (outputEl) {{\n",
              "    x.observe(outputEl, {childList: true});\n",
              "}}\n",
              "\n",
              "                        })\n",
              "                };\n",
              "                \n",
              "            </script>\n",
              "        </div>\n",
              "</body>\n",
              "</html>"
            ]
          },
          "metadata": {}
        }
      ]
    },
    {
      "cell_type": "code",
      "metadata": {
        "colab": {
          "base_uri": "https://localhost:8080/",
          "height": 542
        },
        "id": "DGFmLPQ0rjn8",
        "outputId": "1f42ae91-3e27-4c0f-e2a9-f92e509913c3"
      },
      "source": [
        "import plotly.graph_objects as go\n",
        "from plotly.subplots import make_subplots\n",
        "\n",
        "labels = ['ADIDAS', 'Anand', 'Anand SAREES', 'Billion', 'BLIVE',\n",
        "       'Breil By Fort Collins', 'Broen', 'Cartyshop', 'Classic Polo',\n",
        "       'DealSeven fashion', 'Dollar Bigboss', 'Eyebogler', 'FABdon',\n",
        "       'Fabwomen', 'Fort Collins', 'Foxter', 'FTC FASHIONS', 'GYRFALCON',\n",
        "       'HARPA', 'HELMONT', 'Kizaar', 'ksevencreation', 'LEE', 'Leelavati',\n",
        "       \"LEVI'S\", 'Lux Venus', 'M7 By Metronaut', 'ME Stores', 'METRONAUT',\n",
        "       'Navy Sport', 'NIKE', 'PARK AVENUE', 'PARX', 'PETER ENGLAND',\n",
        "       'Peter England University', 'PUMA', 'Raymond', 'RCSP', 'Reya',\n",
        "       'Roadster', 'Seven Rocks', 'Sky World', 'Smartees', 'Spykar',\n",
        "       'Surhi', 'Trijal Fab', 'TRIPR', 'Try This', 'Vamear Exclusive',\n",
        "       'Vega 1st Fashion', 'VILLAGIUS', 'Vitaan', 'XYXX', 'LUX']\n",
        "\n",
        "# Create subplots: use 'domain' type for Pie subplot\n",
        "fig = make_subplots(rows=1, cols=2, specs=[[{'type':'domain'}, {'type':'domain'}]])\n",
        "fig.add_trace(go.Pie(labels=labels, values=[644, 606, 300, 297, 257, 207, 206, 193, 168, 158, 152, 147, 145,\n",
        "       133, 121, 115, 102,  95,  91,  89,  88,  83,  81,  76,  74,  67], name=\"Highest Selling Brands\"),\n",
        "              1, 1)\n",
        "fig.add_trace(go.Pie(labels=labels, values=[66,  62,  60,  52,  43,  42,  39,  36,  35,  26,  22,  18,  16,\n",
        "        15,  13,  11,   9,   8,   7,   5,   4,   3,   1], name=\"Lowest Selling brands\"),\n",
        "              1, 2)\n",
        "\n",
        "# Use `hole` to create a donut-like pie chart\n",
        "fig.update_traces(hole=.2, hoverinfo=\"label+percent+name\")\n",
        "\n",
        "fig.update_layout(\n",
        "    title_text=\"FLIPKART BRAND ANALYSIS\",\n",
        "    # Add annotations in the center of the donut pies.\n",
        "    annotations=[dict(text='', x=0.18, y=0.5, font_size=20, showarrow=False),\n",
        "                 dict(text='', x=0.82, y=0.5, font_size=20, showarrow=False)]\n",
        "                  \n",
        "                 )\n",
        "fig.show()\n",
        "\n",
        "\n",
        "\n"
      ],
      "execution_count": null,
      "outputs": [
        {
          "output_type": "display_data",
          "data": {
            "text/html": [
              "<html>\n",
              "<head><meta charset=\"utf-8\" /></head>\n",
              "<body>\n",
              "    <div>\n",
              "            <script src=\"https://cdnjs.cloudflare.com/ajax/libs/mathjax/2.7.5/MathJax.js?config=TeX-AMS-MML_SVG\"></script><script type=\"text/javascript\">if (window.MathJax) {MathJax.Hub.Config({SVG: {font: \"STIX-Web\"}});}</script>\n",
              "                <script type=\"text/javascript\">window.PlotlyConfig = {MathJaxConfig: 'local'};</script>\n",
              "        <script src=\"https://cdn.plot.ly/plotly-latest.min.js\"></script>    \n",
              "            <div id=\"6abad4bd-75ba-4027-a1c3-c8feb9f6368e\" class=\"plotly-graph-div\" style=\"height:525px; width:100%;\"></div>\n",
              "            <script type=\"text/javascript\">\n",
              "                \n",
              "                    window.PLOTLYENV=window.PLOTLYENV || {};\n",
              "                    \n",
              "                if (document.getElementById(\"6abad4bd-75ba-4027-a1c3-c8feb9f6368e\")) {\n",
              "                    Plotly.newPlot(\n",
              "                        '6abad4bd-75ba-4027-a1c3-c8feb9f6368e',\n",
              "                        [{\"domain\": {\"x\": [0.0, 0.45], \"y\": [0.0, 1.0]}, \"hole\": 0.2, \"hoverinfo\": \"label+percent+name\", \"labels\": [\"ADIDAS\", \"Anand\", \"Anand SAREES\", \"Billion\", \"BLIVE\", \"Breil By Fort Collins\", \"Broen\", \"Cartyshop\", \"Classic Polo\", \"DealSeven fashion\", \"Dollar Bigboss\", \"Eyebogler\", \"FABdon\", \"Fabwomen\", \"Fort Collins\", \"Foxter\", \"FTC FASHIONS\", \"GYRFALCON\", \"HARPA\", \"HELMONT\", \"Kizaar\", \"ksevencreation\", \"LEE\", \"Leelavati\", \"LEVI'S\", \"Lux Venus\", \"M7 By Metronaut\", \"ME Stores\", \"METRONAUT\", \"Navy Sport\", \"NIKE\", \"PARK AVENUE\", \"PARX\", \"PETER ENGLAND\", \"Peter England University\", \"PUMA\", \"Raymond\", \"RCSP\", \"Reya\", \"Roadster\", \"Seven Rocks\", \"Sky World\", \"Smartees\", \"Spykar\", \"Surhi\", \"Trijal Fab\", \"TRIPR\", \"Try This\", \"Vamear Exclusive\", \"Vega 1st Fashion\", \"VILLAGIUS\", \"Vitaan\", \"XYXX\", \"LUX\"], \"name\": \"Highest Selling Brands\", \"type\": \"pie\", \"values\": [644, 606, 300, 297, 257, 207, 206, 193, 168, 158, 152, 147, 145, 133, 121, 115, 102, 95, 91, 89, 88, 83, 81, 76, 74, 67]}, {\"domain\": {\"x\": [0.55, 1.0], \"y\": [0.0, 1.0]}, \"hole\": 0.2, \"hoverinfo\": \"label+percent+name\", \"labels\": [\"ADIDAS\", \"Anand\", \"Anand SAREES\", \"Billion\", \"BLIVE\", \"Breil By Fort Collins\", \"Broen\", \"Cartyshop\", \"Classic Polo\", \"DealSeven fashion\", \"Dollar Bigboss\", \"Eyebogler\", \"FABdon\", \"Fabwomen\", \"Fort Collins\", \"Foxter\", \"FTC FASHIONS\", \"GYRFALCON\", \"HARPA\", \"HELMONT\", \"Kizaar\", \"ksevencreation\", \"LEE\", \"Leelavati\", \"LEVI'S\", \"Lux Venus\", \"M7 By Metronaut\", \"ME Stores\", \"METRONAUT\", \"Navy Sport\", \"NIKE\", \"PARK AVENUE\", \"PARX\", \"PETER ENGLAND\", \"Peter England University\", \"PUMA\", \"Raymond\", \"RCSP\", \"Reya\", \"Roadster\", \"Seven Rocks\", \"Sky World\", \"Smartees\", \"Spykar\", \"Surhi\", \"Trijal Fab\", \"TRIPR\", \"Try This\", \"Vamear Exclusive\", \"Vega 1st Fashion\", \"VILLAGIUS\", \"Vitaan\", \"XYXX\", \"LUX\"], \"name\": \"Lowest Selling brands\", \"type\": \"pie\", \"values\": [66, 62, 60, 52, 43, 42, 39, 36, 35, 26, 22, 18, 16, 15, 13, 11, 9, 8, 7, 5, 4, 3, 1]}],\n",
              "                        {\"annotations\": [{\"font\": {\"size\": 20}, \"showarrow\": false, \"text\": \"\", \"x\": 0.18, \"y\": 0.5}, {\"font\": {\"size\": 20}, \"showarrow\": false, \"text\": \"\", \"x\": 0.82, \"y\": 0.5}], \"template\": {\"data\": {\"bar\": [{\"error_x\": {\"color\": \"#2a3f5f\"}, \"error_y\": {\"color\": \"#2a3f5f\"}, \"marker\": {\"line\": {\"color\": \"#E5ECF6\", \"width\": 0.5}}, \"type\": \"bar\"}], \"barpolar\": [{\"marker\": {\"line\": {\"color\": \"#E5ECF6\", \"width\": 0.5}}, \"type\": \"barpolar\"}], \"carpet\": [{\"aaxis\": {\"endlinecolor\": \"#2a3f5f\", \"gridcolor\": \"white\", \"linecolor\": \"white\", \"minorgridcolor\": \"white\", \"startlinecolor\": \"#2a3f5f\"}, \"baxis\": {\"endlinecolor\": \"#2a3f5f\", \"gridcolor\": \"white\", \"linecolor\": \"white\", \"minorgridcolor\": \"white\", \"startlinecolor\": \"#2a3f5f\"}, \"type\": \"carpet\"}], \"choropleth\": [{\"colorbar\": {\"outlinewidth\": 0, \"ticks\": \"\"}, \"type\": \"choropleth\"}], \"contour\": [{\"colorbar\": {\"outlinewidth\": 0, \"ticks\": \"\"}, \"colorscale\": [[0.0, \"#0d0887\"], [0.1111111111111111, \"#46039f\"], [0.2222222222222222, \"#7201a8\"], [0.3333333333333333, \"#9c179e\"], [0.4444444444444444, \"#bd3786\"], [0.5555555555555556, \"#d8576b\"], [0.6666666666666666, \"#ed7953\"], [0.7777777777777778, \"#fb9f3a\"], [0.8888888888888888, \"#fdca26\"], [1.0, \"#f0f921\"]], \"type\": \"contour\"}], \"contourcarpet\": [{\"colorbar\": {\"outlinewidth\": 0, \"ticks\": \"\"}, \"type\": \"contourcarpet\"}], \"heatmap\": [{\"colorbar\": {\"outlinewidth\": 0, \"ticks\": \"\"}, \"colorscale\": [[0.0, \"#0d0887\"], [0.1111111111111111, \"#46039f\"], [0.2222222222222222, \"#7201a8\"], [0.3333333333333333, \"#9c179e\"], [0.4444444444444444, \"#bd3786\"], [0.5555555555555556, \"#d8576b\"], [0.6666666666666666, \"#ed7953\"], [0.7777777777777778, \"#fb9f3a\"], [0.8888888888888888, \"#fdca26\"], [1.0, \"#f0f921\"]], \"type\": \"heatmap\"}], \"heatmapgl\": [{\"colorbar\": {\"outlinewidth\": 0, \"ticks\": \"\"}, \"colorscale\": [[0.0, \"#0d0887\"], [0.1111111111111111, \"#46039f\"], [0.2222222222222222, \"#7201a8\"], [0.3333333333333333, \"#9c179e\"], [0.4444444444444444, \"#bd3786\"], [0.5555555555555556, \"#d8576b\"], [0.6666666666666666, \"#ed7953\"], [0.7777777777777778, \"#fb9f3a\"], [0.8888888888888888, \"#fdca26\"], [1.0, \"#f0f921\"]], \"type\": \"heatmapgl\"}], \"histogram\": [{\"marker\": {\"colorbar\": {\"outlinewidth\": 0, \"ticks\": \"\"}}, \"type\": \"histogram\"}], \"histogram2d\": [{\"colorbar\": {\"outlinewidth\": 0, \"ticks\": \"\"}, \"colorscale\": [[0.0, \"#0d0887\"], [0.1111111111111111, \"#46039f\"], [0.2222222222222222, \"#7201a8\"], [0.3333333333333333, \"#9c179e\"], [0.4444444444444444, \"#bd3786\"], [0.5555555555555556, \"#d8576b\"], [0.6666666666666666, \"#ed7953\"], [0.7777777777777778, \"#fb9f3a\"], [0.8888888888888888, \"#fdca26\"], [1.0, \"#f0f921\"]], \"type\": \"histogram2d\"}], \"histogram2dcontour\": [{\"colorbar\": {\"outlinewidth\": 0, \"ticks\": \"\"}, \"colorscale\": [[0.0, \"#0d0887\"], [0.1111111111111111, \"#46039f\"], [0.2222222222222222, \"#7201a8\"], [0.3333333333333333, \"#9c179e\"], [0.4444444444444444, \"#bd3786\"], [0.5555555555555556, \"#d8576b\"], [0.6666666666666666, \"#ed7953\"], [0.7777777777777778, \"#fb9f3a\"], [0.8888888888888888, \"#fdca26\"], [1.0, \"#f0f921\"]], \"type\": \"histogram2dcontour\"}], \"mesh3d\": [{\"colorbar\": {\"outlinewidth\": 0, \"ticks\": \"\"}, \"type\": \"mesh3d\"}], \"parcoords\": [{\"line\": {\"colorbar\": {\"outlinewidth\": 0, \"ticks\": \"\"}}, \"type\": \"parcoords\"}], \"pie\": [{\"automargin\": true, \"type\": \"pie\"}], \"scatter\": [{\"marker\": {\"colorbar\": {\"outlinewidth\": 0, \"ticks\": \"\"}}, \"type\": \"scatter\"}], \"scatter3d\": [{\"line\": {\"colorbar\": {\"outlinewidth\": 0, \"ticks\": \"\"}}, \"marker\": {\"colorbar\": {\"outlinewidth\": 0, \"ticks\": \"\"}}, \"type\": \"scatter3d\"}], \"scattercarpet\": [{\"marker\": {\"colorbar\": {\"outlinewidth\": 0, \"ticks\": \"\"}}, \"type\": \"scattercarpet\"}], \"scattergeo\": [{\"marker\": {\"colorbar\": {\"outlinewidth\": 0, \"ticks\": \"\"}}, \"type\": \"scattergeo\"}], \"scattergl\": [{\"marker\": {\"colorbar\": {\"outlinewidth\": 0, \"ticks\": \"\"}}, \"type\": \"scattergl\"}], \"scattermapbox\": [{\"marker\": {\"colorbar\": {\"outlinewidth\": 0, \"ticks\": \"\"}}, \"type\": \"scattermapbox\"}], \"scatterpolar\": [{\"marker\": {\"colorbar\": {\"outlinewidth\": 0, \"ticks\": \"\"}}, \"type\": \"scatterpolar\"}], \"scatterpolargl\": [{\"marker\": {\"colorbar\": {\"outlinewidth\": 0, \"ticks\": \"\"}}, \"type\": \"scatterpolargl\"}], \"scatterternary\": [{\"marker\": {\"colorbar\": {\"outlinewidth\": 0, \"ticks\": \"\"}}, \"type\": \"scatterternary\"}], \"surface\": [{\"colorbar\": {\"outlinewidth\": 0, \"ticks\": \"\"}, \"colorscale\": [[0.0, \"#0d0887\"], [0.1111111111111111, \"#46039f\"], [0.2222222222222222, \"#7201a8\"], [0.3333333333333333, \"#9c179e\"], [0.4444444444444444, \"#bd3786\"], [0.5555555555555556, \"#d8576b\"], [0.6666666666666666, \"#ed7953\"], [0.7777777777777778, \"#fb9f3a\"], [0.8888888888888888, \"#fdca26\"], [1.0, \"#f0f921\"]], \"type\": \"surface\"}], \"table\": [{\"cells\": {\"fill\": {\"color\": \"#EBF0F8\"}, \"line\": {\"color\": \"white\"}}, \"header\": {\"fill\": {\"color\": \"#C8D4E3\"}, \"line\": {\"color\": \"white\"}}, \"type\": \"table\"}]}, \"layout\": {\"annotationdefaults\": {\"arrowcolor\": \"#2a3f5f\", \"arrowhead\": 0, \"arrowwidth\": 1}, \"coloraxis\": {\"colorbar\": {\"outlinewidth\": 0, \"ticks\": \"\"}}, \"colorscale\": {\"diverging\": [[0, \"#8e0152\"], [0.1, \"#c51b7d\"], [0.2, \"#de77ae\"], [0.3, \"#f1b6da\"], [0.4, \"#fde0ef\"], [0.5, \"#f7f7f7\"], [0.6, \"#e6f5d0\"], [0.7, \"#b8e186\"], [0.8, \"#7fbc41\"], [0.9, \"#4d9221\"], [1, \"#276419\"]], \"sequential\": [[0.0, \"#0d0887\"], [0.1111111111111111, \"#46039f\"], [0.2222222222222222, \"#7201a8\"], [0.3333333333333333, \"#9c179e\"], [0.4444444444444444, \"#bd3786\"], [0.5555555555555556, \"#d8576b\"], [0.6666666666666666, \"#ed7953\"], [0.7777777777777778, \"#fb9f3a\"], [0.8888888888888888, \"#fdca26\"], [1.0, \"#f0f921\"]], \"sequentialminus\": [[0.0, \"#0d0887\"], [0.1111111111111111, \"#46039f\"], [0.2222222222222222, \"#7201a8\"], [0.3333333333333333, \"#9c179e\"], [0.4444444444444444, \"#bd3786\"], [0.5555555555555556, \"#d8576b\"], [0.6666666666666666, \"#ed7953\"], [0.7777777777777778, \"#fb9f3a\"], [0.8888888888888888, \"#fdca26\"], [1.0, \"#f0f921\"]]}, \"colorway\": [\"#636efa\", \"#EF553B\", \"#00cc96\", \"#ab63fa\", \"#FFA15A\", \"#19d3f3\", \"#FF6692\", \"#B6E880\", \"#FF97FF\", \"#FECB52\"], \"font\": {\"color\": \"#2a3f5f\"}, \"geo\": {\"bgcolor\": \"white\", \"lakecolor\": \"white\", \"landcolor\": \"#E5ECF6\", \"showlakes\": true, \"showland\": true, \"subunitcolor\": \"white\"}, \"hoverlabel\": {\"align\": \"left\"}, \"hovermode\": \"closest\", \"mapbox\": {\"style\": \"light\"}, \"paper_bgcolor\": \"white\", \"plot_bgcolor\": \"#E5ECF6\", \"polar\": {\"angularaxis\": {\"gridcolor\": \"white\", \"linecolor\": \"white\", \"ticks\": \"\"}, \"bgcolor\": \"#E5ECF6\", \"radialaxis\": {\"gridcolor\": \"white\", \"linecolor\": \"white\", \"ticks\": \"\"}}, \"scene\": {\"xaxis\": {\"backgroundcolor\": \"#E5ECF6\", \"gridcolor\": \"white\", \"gridwidth\": 2, \"linecolor\": \"white\", \"showbackground\": true, \"ticks\": \"\", \"zerolinecolor\": \"white\"}, \"yaxis\": {\"backgroundcolor\": \"#E5ECF6\", \"gridcolor\": \"white\", \"gridwidth\": 2, \"linecolor\": \"white\", \"showbackground\": true, \"ticks\": \"\", \"zerolinecolor\": \"white\"}, \"zaxis\": {\"backgroundcolor\": \"#E5ECF6\", \"gridcolor\": \"white\", \"gridwidth\": 2, \"linecolor\": \"white\", \"showbackground\": true, \"ticks\": \"\", \"zerolinecolor\": \"white\"}}, \"shapedefaults\": {\"line\": {\"color\": \"#2a3f5f\"}}, \"ternary\": {\"aaxis\": {\"gridcolor\": \"white\", \"linecolor\": \"white\", \"ticks\": \"\"}, \"baxis\": {\"gridcolor\": \"white\", \"linecolor\": \"white\", \"ticks\": \"\"}, \"bgcolor\": \"#E5ECF6\", \"caxis\": {\"gridcolor\": \"white\", \"linecolor\": \"white\", \"ticks\": \"\"}}, \"title\": {\"x\": 0.05}, \"xaxis\": {\"automargin\": true, \"gridcolor\": \"white\", \"linecolor\": \"white\", \"ticks\": \"\", \"title\": {\"standoff\": 15}, \"zerolinecolor\": \"white\", \"zerolinewidth\": 2}, \"yaxis\": {\"automargin\": true, \"gridcolor\": \"white\", \"linecolor\": \"white\", \"ticks\": \"\", \"title\": {\"standoff\": 15}, \"zerolinecolor\": \"white\", \"zerolinewidth\": 2}}}, \"title\": {\"text\": \"FLIPKART BRAND ANALYSIS\"}},\n",
              "                        {\"responsive\": true}\n",
              "                    ).then(function(){\n",
              "                            \n",
              "var gd = document.getElementById('6abad4bd-75ba-4027-a1c3-c8feb9f6368e');\n",
              "var x = new MutationObserver(function (mutations, observer) {{\n",
              "        var display = window.getComputedStyle(gd).display;\n",
              "        if (!display || display === 'none') {{\n",
              "            console.log([gd, 'removed!']);\n",
              "            Plotly.purge(gd);\n",
              "            observer.disconnect();\n",
              "        }}\n",
              "}});\n",
              "\n",
              "// Listen for the removal of the full notebook cells\n",
              "var notebookContainer = gd.closest('#notebook-container');\n",
              "if (notebookContainer) {{\n",
              "    x.observe(notebookContainer, {childList: true});\n",
              "}}\n",
              "\n",
              "// Listen for the clearing of the current output cell\n",
              "var outputEl = gd.closest('.output');\n",
              "if (outputEl) {{\n",
              "    x.observe(outputEl, {childList: true});\n",
              "}}\n",
              "\n",
              "                        })\n",
              "                };\n",
              "                \n",
              "            </script>\n",
              "        </div>\n",
              "</body>\n",
              "</html>"
            ]
          },
          "metadata": {}
        }
      ]
    },
    {
      "cell_type": "code",
      "metadata": {
        "id": "FiwKfAIdsIco"
      },
      "source": [
        ""
      ],
      "execution_count": null,
      "outputs": []
    }
  ]
}